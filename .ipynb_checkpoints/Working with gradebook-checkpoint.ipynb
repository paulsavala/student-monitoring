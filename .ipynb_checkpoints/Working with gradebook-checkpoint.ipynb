{
 "cells": [
  {
   "cell_type": "code",
   "execution_count": 52,
   "metadata": {},
   "outputs": [],
   "source": [
    "import pandas as pd\n",
    "\n",
    "from matplotlib import pyplot as plt\n",
    "import plotly.graph_objects as go\n",
    "import plotly.express as px\n",
    "%matplotlib inline\n",
    "\n",
    "import numpy as np\n",
    "from scipy.stats import beta\n",
    "\n",
    "from canvasapi import Canvas"
   ]
  },
  {
   "cell_type": "code",
   "execution_count": 2,
   "metadata": {},
   "outputs": [],
   "source": [
    "df_02 = pd.read_csv('data/MATH_3320_02_FALL_2020.csv')\n",
    "df_03 = pd.read_csv('data/MATH_3320_03_FALL_2020.csv')"
   ]
  },
  {
   "cell_type": "code",
   "execution_count": 3,
   "metadata": {},
   "outputs": [
    {
     "data": {
      "text/html": [
       "<div>\n",
       "<style scoped>\n",
       "    .dataframe tbody tr th:only-of-type {\n",
       "        vertical-align: middle;\n",
       "    }\n",
       "\n",
       "    .dataframe tbody tr th {\n",
       "        vertical-align: top;\n",
       "    }\n",
       "\n",
       "    .dataframe thead th {\n",
       "        text-align: right;\n",
       "    }\n",
       "</style>\n",
       "<table border=\"1\" class=\"dataframe\">\n",
       "  <thead>\n",
       "    <tr style=\"text-align: right;\">\n",
       "      <th></th>\n",
       "      <th>Student</th>\n",
       "      <th>ID</th>\n",
       "      <th>SIS Login ID</th>\n",
       "      <th>Section</th>\n",
       "      <th>HW 0 (170770)</th>\n",
       "      <th>HW 1 (180687)</th>\n",
       "      <th>HW 2 (180688)</th>\n",
       "      <th>HW 3 (180689)</th>\n",
       "      <th>Normal distribution activity (180856)</th>\n",
       "      <th>HW 4 (180690)</th>\n",
       "      <th>...</th>\n",
       "      <th>Final Exam Final Score</th>\n",
       "      <th>Final Exam Unposted Final Score</th>\n",
       "      <th>Current Score</th>\n",
       "      <th>Unposted Current Score</th>\n",
       "      <th>Final Score</th>\n",
       "      <th>Unposted Final Score</th>\n",
       "      <th>Current Grade</th>\n",
       "      <th>Unposted Current Grade</th>\n",
       "      <th>Final Grade</th>\n",
       "      <th>Unposted Final Grade</th>\n",
       "    </tr>\n",
       "  </thead>\n",
       "  <tbody>\n",
       "    <tr>\n",
       "      <th>0</th>\n",
       "      <td>Points Possible</td>\n",
       "      <td>NaN</td>\n",
       "      <td>NaN</td>\n",
       "      <td>NaN</td>\n",
       "      <td>0.0</td>\n",
       "      <td>10.0</td>\n",
       "      <td>10.0</td>\n",
       "      <td>10.00</td>\n",
       "      <td>10.0</td>\n",
       "      <td>10.0</td>\n",
       "      <td>...</td>\n",
       "      <td>(read only)</td>\n",
       "      <td>(read only)</td>\n",
       "      <td>(read only)</td>\n",
       "      <td>(read only)</td>\n",
       "      <td>(read only)</td>\n",
       "      <td>(read only)</td>\n",
       "      <td>(read only)</td>\n",
       "      <td>(read only)</td>\n",
       "      <td>(read only)</td>\n",
       "      <td>(read only)</td>\n",
       "    </tr>\n",
       "    <tr>\n",
       "      <th>1</th>\n",
       "      <td>Arguello Haces, Gerardo</td>\n",
       "      <td>79817.0</td>\n",
       "      <td>garguell</td>\n",
       "      <td>MATH-3320-02</td>\n",
       "      <td>0.0</td>\n",
       "      <td>10.0</td>\n",
       "      <td>0.0</td>\n",
       "      <td>9.38</td>\n",
       "      <td>0.0</td>\n",
       "      <td>0.0</td>\n",
       "      <td>...</td>\n",
       "      <td>0.00</td>\n",
       "      <td>0.00</td>\n",
       "      <td>25.90</td>\n",
       "      <td>25.90</td>\n",
       "      <td>25.90</td>\n",
       "      <td>25.90</td>\n",
       "      <td>F</td>\n",
       "      <td>F</td>\n",
       "      <td>F</td>\n",
       "      <td>F</td>\n",
       "    </tr>\n",
       "    <tr>\n",
       "      <th>2</th>\n",
       "      <td>Cohen, Noah</td>\n",
       "      <td>84902.0</td>\n",
       "      <td>ncohen1</td>\n",
       "      <td>MATH-3320-02</td>\n",
       "      <td>10.0</td>\n",
       "      <td>10.0</td>\n",
       "      <td>10.0</td>\n",
       "      <td>9.38</td>\n",
       "      <td>10.0</td>\n",
       "      <td>10.0</td>\n",
       "      <td>...</td>\n",
       "      <td>59.00</td>\n",
       "      <td>59.00</td>\n",
       "      <td>87.51</td>\n",
       "      <td>87.51</td>\n",
       "      <td>87.51</td>\n",
       "      <td>87.51</td>\n",
       "      <td>B</td>\n",
       "      <td>B</td>\n",
       "      <td>B</td>\n",
       "      <td>B</td>\n",
       "    </tr>\n",
       "    <tr>\n",
       "      <th>3</th>\n",
       "      <td>Colegrove, Courtney</td>\n",
       "      <td>8569.0</td>\n",
       "      <td>ccolegr</td>\n",
       "      <td>MATH-3320-02</td>\n",
       "      <td>10.0</td>\n",
       "      <td>10.0</td>\n",
       "      <td>10.0</td>\n",
       "      <td>10.00</td>\n",
       "      <td>10.0</td>\n",
       "      <td>10.0</td>\n",
       "      <td>...</td>\n",
       "      <td>53.00</td>\n",
       "      <td>53.00</td>\n",
       "      <td>86.32</td>\n",
       "      <td>86.32</td>\n",
       "      <td>86.32</td>\n",
       "      <td>86.32</td>\n",
       "      <td>B</td>\n",
       "      <td>B</td>\n",
       "      <td>B</td>\n",
       "      <td>B</td>\n",
       "    </tr>\n",
       "    <tr>\n",
       "      <th>4</th>\n",
       "      <td>Damani, Samita</td>\n",
       "      <td>67516.0</td>\n",
       "      <td>sdamani2</td>\n",
       "      <td>MATH-3320-02</td>\n",
       "      <td>10.0</td>\n",
       "      <td>10.0</td>\n",
       "      <td>10.0</td>\n",
       "      <td>10.00</td>\n",
       "      <td>10.0</td>\n",
       "      <td>10.0</td>\n",
       "      <td>...</td>\n",
       "      <td>70.00</td>\n",
       "      <td>70.00</td>\n",
       "      <td>92.88</td>\n",
       "      <td>92.88</td>\n",
       "      <td>92.88</td>\n",
       "      <td>92.88</td>\n",
       "      <td>A</td>\n",
       "      <td>A</td>\n",
       "      <td>A</td>\n",
       "      <td>A</td>\n",
       "    </tr>\n",
       "  </tbody>\n",
       "</table>\n",
       "<p>5 rows × 59 columns</p>\n",
       "</div>"
      ],
      "text/plain": [
       "                   Student       ID SIS Login ID       Section  HW 0 (170770)  \\\n",
       "0          Points Possible      NaN          NaN           NaN            0.0   \n",
       "1  Arguello Haces, Gerardo  79817.0     garguell  MATH-3320-02            0.0   \n",
       "2              Cohen, Noah  84902.0      ncohen1  MATH-3320-02           10.0   \n",
       "3      Colegrove, Courtney   8569.0      ccolegr  MATH-3320-02           10.0   \n",
       "4           Damani, Samita  67516.0     sdamani2  MATH-3320-02           10.0   \n",
       "\n",
       "   HW 1 (180687)  HW 2 (180688)  HW 3 (180689)  \\\n",
       "0           10.0           10.0          10.00   \n",
       "1           10.0            0.0           9.38   \n",
       "2           10.0           10.0           9.38   \n",
       "3           10.0           10.0          10.00   \n",
       "4           10.0           10.0          10.00   \n",
       "\n",
       "   Normal distribution activity (180856)  HW 4 (180690)  ...  \\\n",
       "0                                   10.0           10.0  ...   \n",
       "1                                    0.0            0.0  ...   \n",
       "2                                   10.0           10.0  ...   \n",
       "3                                   10.0           10.0  ...   \n",
       "4                                   10.0           10.0  ...   \n",
       "\n",
       "   Final Exam Final Score  Final Exam Unposted Final Score  Current Score  \\\n",
       "0             (read only)                      (read only)    (read only)   \n",
       "1                    0.00                             0.00          25.90   \n",
       "2                   59.00                            59.00          87.51   \n",
       "3                   53.00                            53.00          86.32   \n",
       "4                   70.00                            70.00          92.88   \n",
       "\n",
       "   Unposted Current Score  Final Score  Unposted Final Score  Current Grade  \\\n",
       "0             (read only)  (read only)           (read only)    (read only)   \n",
       "1                   25.90        25.90                 25.90              F   \n",
       "2                   87.51        87.51                 87.51              B   \n",
       "3                   86.32        86.32                 86.32              B   \n",
       "4                   92.88        92.88                 92.88              A   \n",
       "\n",
       "   Unposted Current Grade  Final Grade  Unposted Final Grade  \n",
       "0             (read only)  (read only)           (read only)  \n",
       "1                       F            F                     F  \n",
       "2                       B            B                     B  \n",
       "3                       B            B                     B  \n",
       "4                       A            A                     A  \n",
       "\n",
       "[5 rows x 59 columns]"
      ]
     },
     "execution_count": 3,
     "metadata": {},
     "output_type": "execute_result"
    }
   ],
   "source": [
    "df_02.head()"
   ]
  },
  {
   "cell_type": "code",
   "execution_count": 4,
   "metadata": {},
   "outputs": [],
   "source": [
    "API_TOKEN = '3286~8dlESHq3nIk4XSxU43srFlqhCJbQFxHD1rwFYhx6mo2A1oXB7INfi94csvP4NuWX'\n",
    "API_URL = 'https://stedwards.instructure.com/'"
   ]
  },
  {
   "cell_type": "code",
   "execution_count": 5,
   "metadata": {},
   "outputs": [],
   "source": [
    "canvas = Canvas(API_URL, API_TOKEN)"
   ]
  },
  {
   "cell_type": "code",
   "execution_count": 6,
   "metadata": {},
   "outputs": [],
   "source": [
    "course_02 = canvas.get_course(19874)\n",
    "course_03 = canvas.get_course(19877)"
   ]
  },
  {
   "cell_type": "code",
   "execution_count": 7,
   "metadata": {},
   "outputs": [],
   "source": [
    "assignments_02 = course_02.get_assignments()\n",
    "assignments_03 = course_03.get_assignments()"
   ]
  },
  {
   "cell_type": "code",
   "execution_count": 8,
   "metadata": {},
   "outputs": [],
   "source": [
    "all_assignments = []\n",
    "cols = ['assignment_id', 'assignment_name', 'assignment_group_id', 'user_id', 'user_score', 'user_pct', 'due_date']\n",
    "\n",
    "for a in assignments_02:\n",
    "    for s in a.get_submissions():\n",
    "        if a.points_possible is not None and a.points_possible > 0:\n",
    "            if s.score is None:\n",
    "                score = 0\n",
    "            else:\n",
    "                score = s.score\n",
    "            all_assignments.append((a.id, a.name, a.assignment_group_id, s.user_id, s.score, score / a.points_possible, a.due_at))"
   ]
  },
  {
   "cell_type": "code",
   "execution_count": 9,
   "metadata": {},
   "outputs": [],
   "source": [
    "all_assignments_df = pd.DataFrame(all_assignments, columns=cols)"
   ]
  },
  {
   "cell_type": "code",
   "execution_count": 10,
   "metadata": {},
   "outputs": [],
   "source": [
    "all_assignments_df['assignment_group_name'] = all_assignments_df['assignment_group_id'].apply(lambda x: course_02.get_assignment_group(x).name)\n",
    "all_assignments_df['due_date'] = pd.to_datetime(all_assignments_df['due_date']).dt.date"
   ]
  },
  {
   "cell_type": "code",
   "execution_count": 258,
   "metadata": {},
   "outputs": [],
   "source": [
    "all_assignments_df['assignment_group_weight'] = all_assignments_df['assignment_group_id'].apply(lambda x: course_02.get_assignment_group(x).group_weight / 100)"
   ]
  },
  {
   "cell_type": "code",
   "execution_count": 264,
   "metadata": {},
   "outputs": [],
   "source": [
    "all_assignments_df['weighted_user_score'] = all_assignments_df['assignment_group_weight'] * all_assignments_df['user_score']\n",
    "all_assignments_df['weighted_user_pct'] = all_assignments_df['assignment_group_weight'] * all_assignments_df['user_pct']"
   ]
  },
  {
   "cell_type": "code",
   "execution_count": 265,
   "metadata": {},
   "outputs": [
    {
     "data": {
      "text/html": [
       "<div>\n",
       "<style scoped>\n",
       "    .dataframe tbody tr th:only-of-type {\n",
       "        vertical-align: middle;\n",
       "    }\n",
       "\n",
       "    .dataframe tbody tr th {\n",
       "        vertical-align: top;\n",
       "    }\n",
       "\n",
       "    .dataframe thead th {\n",
       "        text-align: right;\n",
       "    }\n",
       "</style>\n",
       "<table border=\"1\" class=\"dataframe\">\n",
       "  <thead>\n",
       "    <tr style=\"text-align: right;\">\n",
       "      <th></th>\n",
       "      <th>assignment_id</th>\n",
       "      <th>assignment_name</th>\n",
       "      <th>assignment_group_id</th>\n",
       "      <th>user_id</th>\n",
       "      <th>user_score</th>\n",
       "      <th>user_pct</th>\n",
       "      <th>due_date</th>\n",
       "      <th>assignment_group_name</th>\n",
       "      <th>assignment_group_weight</th>\n",
       "      <th>weighted_user_score</th>\n",
       "      <th>weighted_user_pct</th>\n",
       "    </tr>\n",
       "  </thead>\n",
       "  <tbody>\n",
       "    <tr>\n",
       "      <th>0</th>\n",
       "      <td>180687</td>\n",
       "      <td>HW 1</td>\n",
       "      <td>43130</td>\n",
       "      <td>8569</td>\n",
       "      <td>10.0</td>\n",
       "      <td>1.0</td>\n",
       "      <td>2019-08-29</td>\n",
       "      <td>Homework</td>\n",
       "      <td>0.16</td>\n",
       "      <td>1.60</td>\n",
       "      <td>0.160</td>\n",
       "    </tr>\n",
       "    <tr>\n",
       "      <th>1</th>\n",
       "      <td>180687</td>\n",
       "      <td>HW 1</td>\n",
       "      <td>43130</td>\n",
       "      <td>29169</td>\n",
       "      <td>10.0</td>\n",
       "      <td>1.0</td>\n",
       "      <td>2019-08-29</td>\n",
       "      <td>Homework</td>\n",
       "      <td>0.16</td>\n",
       "      <td>1.60</td>\n",
       "      <td>0.160</td>\n",
       "    </tr>\n",
       "    <tr>\n",
       "      <th>2</th>\n",
       "      <td>180687</td>\n",
       "      <td>HW 1</td>\n",
       "      <td>43130</td>\n",
       "      <td>29308</td>\n",
       "      <td>4.0</td>\n",
       "      <td>0.4</td>\n",
       "      <td>2019-08-29</td>\n",
       "      <td>Homework</td>\n",
       "      <td>0.16</td>\n",
       "      <td>0.64</td>\n",
       "      <td>0.064</td>\n",
       "    </tr>\n",
       "    <tr>\n",
       "      <th>3</th>\n",
       "      <td>180687</td>\n",
       "      <td>HW 1</td>\n",
       "      <td>43130</td>\n",
       "      <td>33876</td>\n",
       "      <td>10.0</td>\n",
       "      <td>1.0</td>\n",
       "      <td>2019-08-29</td>\n",
       "      <td>Homework</td>\n",
       "      <td>0.16</td>\n",
       "      <td>1.60</td>\n",
       "      <td>0.160</td>\n",
       "    </tr>\n",
       "    <tr>\n",
       "      <th>4</th>\n",
       "      <td>180687</td>\n",
       "      <td>HW 1</td>\n",
       "      <td>43130</td>\n",
       "      <td>41422</td>\n",
       "      <td>10.0</td>\n",
       "      <td>1.0</td>\n",
       "      <td>2019-08-29</td>\n",
       "      <td>Homework</td>\n",
       "      <td>0.16</td>\n",
       "      <td>1.60</td>\n",
       "      <td>0.160</td>\n",
       "    </tr>\n",
       "  </tbody>\n",
       "</table>\n",
       "</div>"
      ],
      "text/plain": [
       "   assignment_id assignment_name  assignment_group_id  user_id  user_score  \\\n",
       "0         180687            HW 1                43130     8569        10.0   \n",
       "1         180687            HW 1                43130    29169        10.0   \n",
       "2         180687            HW 1                43130    29308         4.0   \n",
       "3         180687            HW 1                43130    33876        10.0   \n",
       "4         180687            HW 1                43130    41422        10.0   \n",
       "\n",
       "   user_pct    due_date assignment_group_name  assignment_group_weight  \\\n",
       "0       1.0  2019-08-29              Homework                     0.16   \n",
       "1       1.0  2019-08-29              Homework                     0.16   \n",
       "2       0.4  2019-08-29              Homework                     0.16   \n",
       "3       1.0  2019-08-29              Homework                     0.16   \n",
       "4       1.0  2019-08-29              Homework                     0.16   \n",
       "\n",
       "   weighted_user_score  weighted_user_pct  \n",
       "0                 1.60              0.160  \n",
       "1                 1.60              0.160  \n",
       "2                 0.64              0.064  \n",
       "3                 1.60              0.160  \n",
       "4                 1.60              0.160  "
      ]
     },
     "execution_count": 265,
     "metadata": {},
     "output_type": "execute_result"
    }
   ],
   "source": [
    "all_assignments_df.head()"
   ]
  },
  {
   "cell_type": "code",
   "execution_count": 12,
   "metadata": {},
   "outputs": [],
   "source": [
    "all_assignments3 = []\n",
    "cols = ['assignment_id', 'assignment_name', 'assignment_group_id', 'user_id', 'user_score', 'user_pct', 'due_date']\n",
    "\n",
    "for a in assignments_03:\n",
    "    for s in a.get_submissions():\n",
    "        if a.points_possible is not None and a.points_possible > 0:\n",
    "            if s.score is None:\n",
    "                score = 0\n",
    "            else:\n",
    "                score = s.score\n",
    "            all_assignments3.append((a.id, a.name, a.assignment_group_id, s.user_id, s.score, score / a.points_possible, a.due_at))"
   ]
  },
  {
   "cell_type": "code",
   "execution_count": 13,
   "metadata": {},
   "outputs": [],
   "source": [
    "all_assignments3_df = pd.DataFrame(all_assignments3, columns=cols)"
   ]
  },
  {
   "cell_type": "markdown",
   "metadata": {},
   "source": [
    "This next step is slow, it can be sped up by caching the unique results"
   ]
  },
  {
   "cell_type": "code",
   "execution_count": 14,
   "metadata": {},
   "outputs": [],
   "source": [
    "all_assignments3_df['assignment_group_name'] = all_assignments3_df['assignment_group_id'].apply(lambda x: course_03.get_assignment_group(x).name)\n",
    "all_assignments3_df['due_date'] = pd.to_datetime(all_assignments3_df['due_date']).dt.date"
   ]
  },
  {
   "cell_type": "code",
   "execution_count": 266,
   "metadata": {},
   "outputs": [],
   "source": [
    "all_assignments3_df['assignment_group_weight'] = all_assignments3_df['assignment_group_id'].apply(lambda x: course_03.get_assignment_group(x).group_weight / 100)\n",
    "all_assignments3_df['weighted_user_score'] = all_assignments3_df['assignment_group_weight'] * all_assignments3_df['user_score']\n",
    "all_assignments3_df['weighted_user_pct'] = all_assignments3_df['assignment_group_weight'] * all_assignments3_df['user_pct']"
   ]
  },
  {
   "cell_type": "code",
   "execution_count": 383,
   "metadata": {},
   "outputs": [],
   "source": [
    "df = pd.concat([all_assignments_df, all_assignments3_df])"
   ]
  },
  {
   "cell_type": "code",
   "execution_count": 384,
   "metadata": {},
   "outputs": [],
   "source": [
    "df = df[df['assignment_name'] != 'Roll Call Attendance']"
   ]
  },
  {
   "cell_type": "code",
   "execution_count": 385,
   "metadata": {},
   "outputs": [
    {
     "data": {
      "text/plain": [
       "assignment_id               0\n",
       "assignment_name             0\n",
       "assignment_group_id         0\n",
       "user_id                     0\n",
       "user_score                 51\n",
       "user_pct                    0\n",
       "due_date                    0\n",
       "assignment_group_name       0\n",
       "assignment_group_weight     0\n",
       "weighted_user_score        51\n",
       "weighted_user_pct           0\n",
       "dtype: int64"
      ]
     },
     "execution_count": 385,
     "metadata": {},
     "output_type": "execute_result"
    }
   ],
   "source": [
    "df.isnull().sum()"
   ]
  },
  {
   "cell_type": "code",
   "execution_count": 386,
   "metadata": {},
   "outputs": [],
   "source": [
    "df['user_score'] = df['user_score'].fillna(0)"
   ]
  },
  {
   "cell_type": "code",
   "execution_count": 387,
   "metadata": {},
   "outputs": [],
   "source": [
    "df = df.sort_values('due_date', ascending=True)"
   ]
  },
  {
   "cell_type": "code",
   "execution_count": 388,
   "metadata": {},
   "outputs": [],
   "source": [
    "df = df.reset_index(drop=True)"
   ]
  },
  {
   "cell_type": "markdown",
   "metadata": {},
   "source": [
    "## Modeling expected grades"
   ]
  },
  {
   "cell_type": "code",
   "execution_count": 294,
   "metadata": {},
   "outputs": [],
   "source": [
    "def beta_params(grades):\n",
    "    mu = np.mean(grades)\n",
    "    n = len(grades)\n",
    "    a = mu*n\n",
    "    b = (1-mu)*n\n",
    "    return a, b"
   ]
  },
  {
   "cell_type": "code",
   "execution_count": 295,
   "metadata": {},
   "outputs": [],
   "source": [
    "def beta_pdf(grades):\n",
    "    a, b = beta_params(grades)\n",
    "    x = np.linspace(0, 1, 101)\n",
    "    return x, beta.pdf(x, a, b)"
   ]
  },
  {
   "cell_type": "code",
   "execution_count": 296,
   "metadata": {},
   "outputs": [],
   "source": [
    "def beta_p(x, grades, one_tailed=False):\n",
    "    a, b = beta_params(grades)\n",
    "    tail = beta.cdf(x, a, b)\n",
    "    tail = min(tail, 1-tail)\n",
    "    if one_tailed:\n",
    "        return tail\n",
    "    else:\n",
    "        return 2*tail"
   ]
  },
  {
   "cell_type": "code",
   "execution_count": 339,
   "metadata": {},
   "outputs": [],
   "source": [
    "def beta_ci(grades, conf_level=0.05):\n",
    "    if conf_level > 0.5:\n",
    "        conf_level = 1-conf_level\n",
    "    a, b = beta_params(grades)\n",
    "    left = beta.ppf(conf_level/2, a, b)\n",
    "    right = beta.ppf(1-conf_level/2, a, b)\n",
    "    if np.isnan(left):\n",
    "        left = 0\n",
    "    if np.isnan(right):\n",
    "        right = 1\n",
    "    return left, right"
   ]
  },
  {
   "cell_type": "markdown",
   "metadata": {},
   "source": [
    "## Creating confidence intervals"
   ]
  },
  {
   "cell_type": "code",
   "execution_count": null,
   "metadata": {},
   "outputs": [],
   "source": [
    "df_with_ci = pd.DataFrame(columns=list(df.columns) + ['lower', 'upper'])\n",
    "for uid in df['user_id'].unique():\n",
    "    conf_ints = [(0, 1)]\n",
    "    user_df = df[df['user_id'] == uid]\n",
    "    for i in range(1, user_df.shape[0]):\n",
    "        ci = beta_ci(user_df['user_pct'].iloc[:i], 0.01)\n",
    "        conf_ints.append(ci)\n",
    "    ci_df = pd.DataFrame(conf_ints, columns=['lower', 'upper'])\n",
    "    user_df = user_df.merge(ci_df, left_index=True, right_index=True)\n",
    "    df_with_ci = pd.concat([df_with_ci, user_df])"
   ]
  },
  {
   "cell_type": "markdown",
   "metadata": {},
   "source": [
    "Doing it for just a single user (testing, works)"
   ]
  },
  {
   "cell_type": "code",
   "execution_count": 367,
   "metadata": {},
   "outputs": [],
   "source": [
    "df2 = df.copy()\n",
    "for user_id, grp in df.groupby('user_id'):\n",
    "    conf_ints = [(0, 1)]\n",
    "    for i in range(1, grp.shape[0]):\n",
    "        ci = beta_ci(grp['user_pct'], 0.01)\n",
    "        ci_with_id = (user_id, grp.iloc[i]['assignment_id'], *ci)\n",
    "        conf_ints.append(ci_with_id)\n",
    "    ci_df = pd.DataFrame(conf_ints, columns=['user_id', 'assignment_id', 'lower', 'upper'])\n",
    "    df = df2.merge(ci_df, on=['user_id', 'assignment_id'], how='left')"
   ]
  },
  {
   "cell_type": "markdown",
   "metadata": {},
   "source": [
    "End single user testing"
   ]
  },
  {
   "cell_type": "code",
   "execution_count": 399,
   "metadata": {},
   "outputs": [],
   "source": [
    "def get_user_df(df, user_id=None):\n",
    "    if user_id is not None:\n",
    "        return df[df['user_id'] == user_id]\n",
    "    else:\n",
    "        random_uid = df['user_id'].sample(n=1).values[0]\n",
    "        return df[df['user_id'] == random_uid]"
   ]
  },
  {
   "cell_type": "code",
   "execution_count": 402,
   "metadata": {},
   "outputs": [
    {
     "data": {
      "text/html": [
       "<div>\n",
       "<style scoped>\n",
       "    .dataframe tbody tr th:only-of-type {\n",
       "        vertical-align: middle;\n",
       "    }\n",
       "\n",
       "    .dataframe tbody tr th {\n",
       "        vertical-align: top;\n",
       "    }\n",
       "\n",
       "    .dataframe thead th {\n",
       "        text-align: right;\n",
       "    }\n",
       "</style>\n",
       "<table border=\"1\" class=\"dataframe\">\n",
       "  <thead>\n",
       "    <tr style=\"text-align: right;\">\n",
       "      <th></th>\n",
       "      <th>assignment_id</th>\n",
       "      <th>assignment_name</th>\n",
       "      <th>assignment_group_id</th>\n",
       "      <th>user_id</th>\n",
       "      <th>user_score</th>\n",
       "      <th>user_pct</th>\n",
       "      <th>due_date</th>\n",
       "      <th>assignment_group_name</th>\n",
       "      <th>assignment_group_weight</th>\n",
       "      <th>weighted_user_score</th>\n",
       "      <th>weighted_user_pct</th>\n",
       "    </tr>\n",
       "  </thead>\n",
       "  <tbody>\n",
       "    <tr>\n",
       "      <th>17</th>\n",
       "      <td>181008</td>\n",
       "      <td>HW 0</td>\n",
       "      <td>43132</td>\n",
       "      <td>60880</td>\n",
       "      <td>10.0</td>\n",
       "      <td>1.0</td>\n",
       "      <td>2019-08-28</td>\n",
       "      <td>Homework</td>\n",
       "      <td>0.16</td>\n",
       "      <td>1.6</td>\n",
       "      <td>0.16</td>\n",
       "    </tr>\n",
       "    <tr>\n",
       "      <th>34</th>\n",
       "      <td>180858</td>\n",
       "      <td>HW 1</td>\n",
       "      <td>43132</td>\n",
       "      <td>60880</td>\n",
       "      <td>10.0</td>\n",
       "      <td>1.0</td>\n",
       "      <td>2019-08-29</td>\n",
       "      <td>Homework</td>\n",
       "      <td>0.16</td>\n",
       "      <td>1.6</td>\n",
       "      <td>0.16</td>\n",
       "    </tr>\n",
       "    <tr>\n",
       "      <th>128</th>\n",
       "      <td>180865</td>\n",
       "      <td>HW 2</td>\n",
       "      <td>43132</td>\n",
       "      <td>60880</td>\n",
       "      <td>10.0</td>\n",
       "      <td>1.0</td>\n",
       "      <td>2019-08-31</td>\n",
       "      <td>Homework</td>\n",
       "      <td>0.16</td>\n",
       "      <td>1.6</td>\n",
       "      <td>0.16</td>\n",
       "    </tr>\n",
       "    <tr>\n",
       "      <th>129</th>\n",
       "      <td>180866</td>\n",
       "      <td>HW 3</td>\n",
       "      <td>43132</td>\n",
       "      <td>60880</td>\n",
       "      <td>0.0</td>\n",
       "      <td>0.0</td>\n",
       "      <td>2019-09-06</td>\n",
       "      <td>Homework</td>\n",
       "      <td>0.16</td>\n",
       "      <td>0.0</td>\n",
       "      <td>0.00</td>\n",
       "    </tr>\n",
       "    <tr>\n",
       "      <th>191</th>\n",
       "      <td>180874</td>\n",
       "      <td>Normal distribution activity</td>\n",
       "      <td>43132</td>\n",
       "      <td>60880</td>\n",
       "      <td>10.0</td>\n",
       "      <td>1.0</td>\n",
       "      <td>2019-09-11</td>\n",
       "      <td>Homework</td>\n",
       "      <td>0.16</td>\n",
       "      <td>1.6</td>\n",
       "      <td>0.16</td>\n",
       "    </tr>\n",
       "  </tbody>\n",
       "</table>\n",
       "</div>"
      ],
      "text/plain": [
       "     assignment_id               assignment_name  assignment_group_id  \\\n",
       "17          181008                          HW 0                43132   \n",
       "34          180858                          HW 1                43132   \n",
       "128         180865                          HW 2                43132   \n",
       "129         180866                          HW 3                43132   \n",
       "191         180874  Normal distribution activity                43132   \n",
       "\n",
       "     user_id  user_score  user_pct    due_date assignment_group_name  \\\n",
       "17     60880        10.0       1.0  2019-08-28              Homework   \n",
       "34     60880        10.0       1.0  2019-08-29              Homework   \n",
       "128    60880        10.0       1.0  2019-08-31              Homework   \n",
       "129    60880         0.0       0.0  2019-09-06              Homework   \n",
       "191    60880        10.0       1.0  2019-09-11              Homework   \n",
       "\n",
       "     assignment_group_weight  weighted_user_score  weighted_user_pct  \n",
       "17                      0.16                  1.6               0.16  \n",
       "34                      0.16                  1.6               0.16  \n",
       "128                     0.16                  1.6               0.16  \n",
       "129                     0.16                  0.0               0.00  \n",
       "191                     0.16                  1.6               0.16  "
      ]
     },
     "execution_count": 402,
     "metadata": {},
     "output_type": "execute_result"
    }
   ],
   "source": [
    "get_user_df(df).head()"
   ]
  },
  {
   "cell_type": "code",
   "execution_count": 335,
   "metadata": {},
   "outputs": [],
   "source": [
    "g_df = df[df['user_id']==55670][['user_pct', 'weighted_user_pct', 'due_date']].reset_index(drop=True)"
   ]
  },
  {
   "cell_type": "code",
   "execution_count": 336,
   "metadata": {},
   "outputs": [],
   "source": [
    "# At first we have no idea what grades are reasonable, so allow the whole range\n",
    "conf_ints = [(0, 1)]\n",
    "for i in range(1, len(g)):\n",
    "    ci = beta_ci(g[:i], 0.01)\n",
    "    conf_ints.append(ci)"
   ]
  },
  {
   "cell_type": "code",
   "execution_count": 337,
   "metadata": {},
   "outputs": [],
   "source": [
    "g_df = pd.merge(g_df, pd.DataFrame(conf_ints, columns=['lower', 'upper']), left_index=True, right_index=True)"
   ]
  },
  {
   "cell_type": "code",
   "execution_count": null,
   "metadata": {},
   "outputs": [],
   "source": [
    "g_df['concern_level'] = g"
   ]
  },
  {
   "cell_type": "code",
   "execution_count": 338,
   "metadata": {},
   "outputs": [
    {
     "data": {
      "application/vnd.plotly.v1+json": {
       "config": {
        "plotlyServerURL": "https://plot.ly"
       },
       "data": [
        {
         "line": {
          "color": "red",
          "width": 5
         },
         "name": "grades",
         "type": "scatter",
         "x": [
          "2019-08-28",
          "2019-08-29",
          "2019-08-31",
          "2019-09-06",
          "2019-09-11",
          "2019-09-11",
          "2019-09-13",
          "2019-09-17",
          "2019-09-19",
          "2019-10-01",
          "2019-10-04",
          "2019-10-11",
          "2019-10-14",
          "2019-10-17",
          "2019-10-25",
          "2019-10-25",
          "2019-10-30",
          "2019-11-06",
          "2019-11-09",
          "2019-11-15",
          "2019-11-16",
          "2019-11-20",
          "2019-11-22",
          "2019-11-26",
          "2019-12-12"
         ],
         "y": [
          1,
          1,
          1,
          1,
          1,
          1,
          1,
          1,
          0.9670000000000001,
          0.8571428571,
          0.8522222222,
          0.8019999999999999,
          1,
          0.82,
          1,
          1,
          0.8333333333,
          1,
          0.9,
          0.9840000000000001,
          0,
          0.8949999999999999,
          1,
          1,
          0.61
         ]
        },
        {
         "line": {
          "color": "gray"
         },
         "showlegend": false,
         "type": "scatter",
         "x": [
          "2019-08-28",
          "2019-08-29",
          "2019-08-31",
          "2019-09-06",
          "2019-09-11",
          "2019-09-11",
          "2019-09-13",
          "2019-09-17",
          "2019-09-19",
          "2019-10-01",
          "2019-10-04",
          "2019-10-11",
          "2019-10-14",
          "2019-10-17",
          "2019-10-25",
          "2019-10-25",
          "2019-10-30",
          "2019-11-06",
          "2019-11-09",
          "2019-11-15",
          "2019-11-16",
          "2019-11-20",
          "2019-11-22",
          "2019-11-26",
          "2019-12-12"
         ],
         "y": [
          1,
          1,
          1,
          1,
          1,
          1,
          1,
          1,
          1,
          0.9999999999999999,
          0.9999999999999943,
          0.9999999946869802,
          0.9999972567834796,
          0.9999974808225751,
          0.9999651228726123,
          0.9999675872496447,
          0.9999697263802136,
          0.9998683153520912,
          0.9998760305804418,
          0.9997693320849114,
          0.9997593464668935,
          0.994843548216408,
          0.9941793160156069,
          0.9944500301392812,
          0.9946966751760775
         ]
        },
        {
         "fill": "tonexty",
         "line": {
          "color": "gray"
         },
         "showlegend": false,
         "type": "scatter",
         "x": [
          "2019-08-28",
          "2019-08-29",
          "2019-08-31",
          "2019-09-06",
          "2019-09-11",
          "2019-09-11",
          "2019-09-13",
          "2019-09-17",
          "2019-09-19",
          "2019-10-01",
          "2019-10-04",
          "2019-10-11",
          "2019-10-14",
          "2019-10-17",
          "2019-10-25",
          "2019-10-25",
          "2019-10-30",
          "2019-11-06",
          "2019-11-09",
          "2019-11-15",
          "2019-11-16",
          "2019-11-20",
          "2019-11-22",
          "2019-11-26",
          "2019-12-12"
         ],
         "y": [
          0,
          0,
          0,
          0,
          0,
          0,
          0,
          0,
          0,
          0.8628779682659534,
          0.7572419030350659,
          0.725837871167278,
          0.7002585222430756,
          0.7209119470336771,
          0.7084510143068166,
          0.7259066630005611,
          0.7414086817348928,
          0.7337995656121873,
          0.7472261486204341,
          0.7483944409659341,
          0.7582464025964384,
          0.6840422695761791,
          0.6892739985592968,
          0.7013591442239963,
          0.712548913048327
         ]
        }
       ],
       "layout": {
        "template": {
         "data": {
          "bar": [
           {
            "error_x": {
             "color": "#2a3f5f"
            },
            "error_y": {
             "color": "#2a3f5f"
            },
            "marker": {
             "line": {
              "color": "#E5ECF6",
              "width": 0.5
             }
            },
            "type": "bar"
           }
          ],
          "barpolar": [
           {
            "marker": {
             "line": {
              "color": "#E5ECF6",
              "width": 0.5
             }
            },
            "type": "barpolar"
           }
          ],
          "carpet": [
           {
            "aaxis": {
             "endlinecolor": "#2a3f5f",
             "gridcolor": "white",
             "linecolor": "white",
             "minorgridcolor": "white",
             "startlinecolor": "#2a3f5f"
            },
            "baxis": {
             "endlinecolor": "#2a3f5f",
             "gridcolor": "white",
             "linecolor": "white",
             "minorgridcolor": "white",
             "startlinecolor": "#2a3f5f"
            },
            "type": "carpet"
           }
          ],
          "choropleth": [
           {
            "colorbar": {
             "outlinewidth": 0,
             "ticks": ""
            },
            "type": "choropleth"
           }
          ],
          "contour": [
           {
            "colorbar": {
             "outlinewidth": 0,
             "ticks": ""
            },
            "colorscale": [
             [
              0,
              "#0d0887"
             ],
             [
              0.1111111111111111,
              "#46039f"
             ],
             [
              0.2222222222222222,
              "#7201a8"
             ],
             [
              0.3333333333333333,
              "#9c179e"
             ],
             [
              0.4444444444444444,
              "#bd3786"
             ],
             [
              0.5555555555555556,
              "#d8576b"
             ],
             [
              0.6666666666666666,
              "#ed7953"
             ],
             [
              0.7777777777777778,
              "#fb9f3a"
             ],
             [
              0.8888888888888888,
              "#fdca26"
             ],
             [
              1,
              "#f0f921"
             ]
            ],
            "type": "contour"
           }
          ],
          "contourcarpet": [
           {
            "colorbar": {
             "outlinewidth": 0,
             "ticks": ""
            },
            "type": "contourcarpet"
           }
          ],
          "heatmap": [
           {
            "colorbar": {
             "outlinewidth": 0,
             "ticks": ""
            },
            "colorscale": [
             [
              0,
              "#0d0887"
             ],
             [
              0.1111111111111111,
              "#46039f"
             ],
             [
              0.2222222222222222,
              "#7201a8"
             ],
             [
              0.3333333333333333,
              "#9c179e"
             ],
             [
              0.4444444444444444,
              "#bd3786"
             ],
             [
              0.5555555555555556,
              "#d8576b"
             ],
             [
              0.6666666666666666,
              "#ed7953"
             ],
             [
              0.7777777777777778,
              "#fb9f3a"
             ],
             [
              0.8888888888888888,
              "#fdca26"
             ],
             [
              1,
              "#f0f921"
             ]
            ],
            "type": "heatmap"
           }
          ],
          "heatmapgl": [
           {
            "colorbar": {
             "outlinewidth": 0,
             "ticks": ""
            },
            "colorscale": [
             [
              0,
              "#0d0887"
             ],
             [
              0.1111111111111111,
              "#46039f"
             ],
             [
              0.2222222222222222,
              "#7201a8"
             ],
             [
              0.3333333333333333,
              "#9c179e"
             ],
             [
              0.4444444444444444,
              "#bd3786"
             ],
             [
              0.5555555555555556,
              "#d8576b"
             ],
             [
              0.6666666666666666,
              "#ed7953"
             ],
             [
              0.7777777777777778,
              "#fb9f3a"
             ],
             [
              0.8888888888888888,
              "#fdca26"
             ],
             [
              1,
              "#f0f921"
             ]
            ],
            "type": "heatmapgl"
           }
          ],
          "histogram": [
           {
            "marker": {
             "colorbar": {
              "outlinewidth": 0,
              "ticks": ""
             }
            },
            "type": "histogram"
           }
          ],
          "histogram2d": [
           {
            "colorbar": {
             "outlinewidth": 0,
             "ticks": ""
            },
            "colorscale": [
             [
              0,
              "#0d0887"
             ],
             [
              0.1111111111111111,
              "#46039f"
             ],
             [
              0.2222222222222222,
              "#7201a8"
             ],
             [
              0.3333333333333333,
              "#9c179e"
             ],
             [
              0.4444444444444444,
              "#bd3786"
             ],
             [
              0.5555555555555556,
              "#d8576b"
             ],
             [
              0.6666666666666666,
              "#ed7953"
             ],
             [
              0.7777777777777778,
              "#fb9f3a"
             ],
             [
              0.8888888888888888,
              "#fdca26"
             ],
             [
              1,
              "#f0f921"
             ]
            ],
            "type": "histogram2d"
           }
          ],
          "histogram2dcontour": [
           {
            "colorbar": {
             "outlinewidth": 0,
             "ticks": ""
            },
            "colorscale": [
             [
              0,
              "#0d0887"
             ],
             [
              0.1111111111111111,
              "#46039f"
             ],
             [
              0.2222222222222222,
              "#7201a8"
             ],
             [
              0.3333333333333333,
              "#9c179e"
             ],
             [
              0.4444444444444444,
              "#bd3786"
             ],
             [
              0.5555555555555556,
              "#d8576b"
             ],
             [
              0.6666666666666666,
              "#ed7953"
             ],
             [
              0.7777777777777778,
              "#fb9f3a"
             ],
             [
              0.8888888888888888,
              "#fdca26"
             ],
             [
              1,
              "#f0f921"
             ]
            ],
            "type": "histogram2dcontour"
           }
          ],
          "mesh3d": [
           {
            "colorbar": {
             "outlinewidth": 0,
             "ticks": ""
            },
            "type": "mesh3d"
           }
          ],
          "parcoords": [
           {
            "line": {
             "colorbar": {
              "outlinewidth": 0,
              "ticks": ""
             }
            },
            "type": "parcoords"
           }
          ],
          "pie": [
           {
            "automargin": true,
            "type": "pie"
           }
          ],
          "scatter": [
           {
            "marker": {
             "colorbar": {
              "outlinewidth": 0,
              "ticks": ""
             }
            },
            "type": "scatter"
           }
          ],
          "scatter3d": [
           {
            "line": {
             "colorbar": {
              "outlinewidth": 0,
              "ticks": ""
             }
            },
            "marker": {
             "colorbar": {
              "outlinewidth": 0,
              "ticks": ""
             }
            },
            "type": "scatter3d"
           }
          ],
          "scattercarpet": [
           {
            "marker": {
             "colorbar": {
              "outlinewidth": 0,
              "ticks": ""
             }
            },
            "type": "scattercarpet"
           }
          ],
          "scattergeo": [
           {
            "marker": {
             "colorbar": {
              "outlinewidth": 0,
              "ticks": ""
             }
            },
            "type": "scattergeo"
           }
          ],
          "scattergl": [
           {
            "marker": {
             "colorbar": {
              "outlinewidth": 0,
              "ticks": ""
             }
            },
            "type": "scattergl"
           }
          ],
          "scattermapbox": [
           {
            "marker": {
             "colorbar": {
              "outlinewidth": 0,
              "ticks": ""
             }
            },
            "type": "scattermapbox"
           }
          ],
          "scatterpolar": [
           {
            "marker": {
             "colorbar": {
              "outlinewidth": 0,
              "ticks": ""
             }
            },
            "type": "scatterpolar"
           }
          ],
          "scatterpolargl": [
           {
            "marker": {
             "colorbar": {
              "outlinewidth": 0,
              "ticks": ""
             }
            },
            "type": "scatterpolargl"
           }
          ],
          "scatterternary": [
           {
            "marker": {
             "colorbar": {
              "outlinewidth": 0,
              "ticks": ""
             }
            },
            "type": "scatterternary"
           }
          ],
          "surface": [
           {
            "colorbar": {
             "outlinewidth": 0,
             "ticks": ""
            },
            "colorscale": [
             [
              0,
              "#0d0887"
             ],
             [
              0.1111111111111111,
              "#46039f"
             ],
             [
              0.2222222222222222,
              "#7201a8"
             ],
             [
              0.3333333333333333,
              "#9c179e"
             ],
             [
              0.4444444444444444,
              "#bd3786"
             ],
             [
              0.5555555555555556,
              "#d8576b"
             ],
             [
              0.6666666666666666,
              "#ed7953"
             ],
             [
              0.7777777777777778,
              "#fb9f3a"
             ],
             [
              0.8888888888888888,
              "#fdca26"
             ],
             [
              1,
              "#f0f921"
             ]
            ],
            "type": "surface"
           }
          ],
          "table": [
           {
            "cells": {
             "fill": {
              "color": "#EBF0F8"
             },
             "line": {
              "color": "white"
             }
            },
            "header": {
             "fill": {
              "color": "#C8D4E3"
             },
             "line": {
              "color": "white"
             }
            },
            "type": "table"
           }
          ]
         },
         "layout": {
          "annotationdefaults": {
           "arrowcolor": "#2a3f5f",
           "arrowhead": 0,
           "arrowwidth": 1
          },
          "coloraxis": {
           "colorbar": {
            "outlinewidth": 0,
            "ticks": ""
           }
          },
          "colorscale": {
           "diverging": [
            [
             0,
             "#8e0152"
            ],
            [
             0.1,
             "#c51b7d"
            ],
            [
             0.2,
             "#de77ae"
            ],
            [
             0.3,
             "#f1b6da"
            ],
            [
             0.4,
             "#fde0ef"
            ],
            [
             0.5,
             "#f7f7f7"
            ],
            [
             0.6,
             "#e6f5d0"
            ],
            [
             0.7,
             "#b8e186"
            ],
            [
             0.8,
             "#7fbc41"
            ],
            [
             0.9,
             "#4d9221"
            ],
            [
             1,
             "#276419"
            ]
           ],
           "sequential": [
            [
             0,
             "#0d0887"
            ],
            [
             0.1111111111111111,
             "#46039f"
            ],
            [
             0.2222222222222222,
             "#7201a8"
            ],
            [
             0.3333333333333333,
             "#9c179e"
            ],
            [
             0.4444444444444444,
             "#bd3786"
            ],
            [
             0.5555555555555556,
             "#d8576b"
            ],
            [
             0.6666666666666666,
             "#ed7953"
            ],
            [
             0.7777777777777778,
             "#fb9f3a"
            ],
            [
             0.8888888888888888,
             "#fdca26"
            ],
            [
             1,
             "#f0f921"
            ]
           ],
           "sequentialminus": [
            [
             0,
             "#0d0887"
            ],
            [
             0.1111111111111111,
             "#46039f"
            ],
            [
             0.2222222222222222,
             "#7201a8"
            ],
            [
             0.3333333333333333,
             "#9c179e"
            ],
            [
             0.4444444444444444,
             "#bd3786"
            ],
            [
             0.5555555555555556,
             "#d8576b"
            ],
            [
             0.6666666666666666,
             "#ed7953"
            ],
            [
             0.7777777777777778,
             "#fb9f3a"
            ],
            [
             0.8888888888888888,
             "#fdca26"
            ],
            [
             1,
             "#f0f921"
            ]
           ]
          },
          "colorway": [
           "#636efa",
           "#EF553B",
           "#00cc96",
           "#ab63fa",
           "#FFA15A",
           "#19d3f3",
           "#FF6692",
           "#B6E880",
           "#FF97FF",
           "#FECB52"
          ],
          "font": {
           "color": "#2a3f5f"
          },
          "geo": {
           "bgcolor": "white",
           "lakecolor": "white",
           "landcolor": "#E5ECF6",
           "showlakes": true,
           "showland": true,
           "subunitcolor": "white"
          },
          "hoverlabel": {
           "align": "left"
          },
          "hovermode": "closest",
          "mapbox": {
           "style": "light"
          },
          "paper_bgcolor": "white",
          "plot_bgcolor": "#E5ECF6",
          "polar": {
           "angularaxis": {
            "gridcolor": "white",
            "linecolor": "white",
            "ticks": ""
           },
           "bgcolor": "#E5ECF6",
           "radialaxis": {
            "gridcolor": "white",
            "linecolor": "white",
            "ticks": ""
           }
          },
          "scene": {
           "xaxis": {
            "backgroundcolor": "#E5ECF6",
            "gridcolor": "white",
            "gridwidth": 2,
            "linecolor": "white",
            "showbackground": true,
            "ticks": "",
            "zerolinecolor": "white"
           },
           "yaxis": {
            "backgroundcolor": "#E5ECF6",
            "gridcolor": "white",
            "gridwidth": 2,
            "linecolor": "white",
            "showbackground": true,
            "ticks": "",
            "zerolinecolor": "white"
           },
           "zaxis": {
            "backgroundcolor": "#E5ECF6",
            "gridcolor": "white",
            "gridwidth": 2,
            "linecolor": "white",
            "showbackground": true,
            "ticks": "",
            "zerolinecolor": "white"
           }
          },
          "shapedefaults": {
           "line": {
            "color": "#2a3f5f"
           }
          },
          "ternary": {
           "aaxis": {
            "gridcolor": "white",
            "linecolor": "white",
            "ticks": ""
           },
           "baxis": {
            "gridcolor": "white",
            "linecolor": "white",
            "ticks": ""
           },
           "bgcolor": "#E5ECF6",
           "caxis": {
            "gridcolor": "white",
            "linecolor": "white",
            "ticks": ""
           }
          },
          "title": {
           "x": 0.05
          },
          "xaxis": {
           "automargin": true,
           "gridcolor": "white",
           "linecolor": "white",
           "ticks": "",
           "title": {
            "standoff": 15
           },
           "zerolinecolor": "white",
           "zerolinewidth": 2
          },
          "yaxis": {
           "automargin": true,
           "gridcolor": "white",
           "linecolor": "white",
           "ticks": "",
           "title": {
            "standoff": 15
           },
           "zerolinecolor": "white",
           "zerolinewidth": 2
          }
         }
        }
       }
      },
      "text/html": [
       "<div>\n",
       "        \n",
       "        \n",
       "            <div id=\"eb50be45-7c61-4b99-988a-dfb441775c09\" class=\"plotly-graph-div\" style=\"height:525px; width:100%;\"></div>\n",
       "            <script type=\"text/javascript\">\n",
       "                require([\"plotly\"], function(Plotly) {\n",
       "                    window.PLOTLYENV=window.PLOTLYENV || {};\n",
       "                    \n",
       "                if (document.getElementById(\"eb50be45-7c61-4b99-988a-dfb441775c09\")) {\n",
       "                    Plotly.newPlot(\n",
       "                        'eb50be45-7c61-4b99-988a-dfb441775c09',\n",
       "                        [{\"line\": {\"color\": \"red\", \"width\": 5}, \"name\": \"grades\", \"type\": \"scatter\", \"x\": [\"2019-08-28\", \"2019-08-29\", \"2019-08-31\", \"2019-09-06\", \"2019-09-11\", \"2019-09-11\", \"2019-09-13\", \"2019-09-17\", \"2019-09-19\", \"2019-10-01\", \"2019-10-04\", \"2019-10-11\", \"2019-10-14\", \"2019-10-17\", \"2019-10-25\", \"2019-10-25\", \"2019-10-30\", \"2019-11-06\", \"2019-11-09\", \"2019-11-15\", \"2019-11-16\", \"2019-11-20\", \"2019-11-22\", \"2019-11-26\", \"2019-12-12\"], \"y\": [1.0, 1.0, 1.0, 1.0, 1.0, 1.0, 1.0, 1.0, 0.9670000000000001, 0.8571428571, 0.8522222222, 0.8019999999999999, 1.0, 0.82, 1.0, 1.0, 0.8333333333, 1.0, 0.9, 0.9840000000000001, 0.0, 0.8949999999999999, 1.0, 1.0, 0.61]}, {\"line\": {\"color\": \"gray\"}, \"showlegend\": false, \"type\": \"scatter\", \"x\": [\"2019-08-28\", \"2019-08-29\", \"2019-08-31\", \"2019-09-06\", \"2019-09-11\", \"2019-09-11\", \"2019-09-13\", \"2019-09-17\", \"2019-09-19\", \"2019-10-01\", \"2019-10-04\", \"2019-10-11\", \"2019-10-14\", \"2019-10-17\", \"2019-10-25\", \"2019-10-25\", \"2019-10-30\", \"2019-11-06\", \"2019-11-09\", \"2019-11-15\", \"2019-11-16\", \"2019-11-20\", \"2019-11-22\", \"2019-11-26\", \"2019-12-12\"], \"y\": [1.0, 1.0, 1.0, 1.0, 1.0, 1.0, 1.0, 1.0, 1.0, 0.9999999999999999, 0.9999999999999943, 0.9999999946869802, 0.9999972567834796, 0.9999974808225751, 0.9999651228726123, 0.9999675872496447, 0.9999697263802136, 0.9998683153520912, 0.9998760305804418, 0.9997693320849114, 0.9997593464668935, 0.994843548216408, 0.9941793160156069, 0.9944500301392812, 0.9946966751760775]}, {\"fill\": \"tonexty\", \"line\": {\"color\": \"gray\"}, \"showlegend\": false, \"type\": \"scatter\", \"x\": [\"2019-08-28\", \"2019-08-29\", \"2019-08-31\", \"2019-09-06\", \"2019-09-11\", \"2019-09-11\", \"2019-09-13\", \"2019-09-17\", \"2019-09-19\", \"2019-10-01\", \"2019-10-04\", \"2019-10-11\", \"2019-10-14\", \"2019-10-17\", \"2019-10-25\", \"2019-10-25\", \"2019-10-30\", \"2019-11-06\", \"2019-11-09\", \"2019-11-15\", \"2019-11-16\", \"2019-11-20\", \"2019-11-22\", \"2019-11-26\", \"2019-12-12\"], \"y\": [0.0, 0.0, 0.0, 0.0, 0.0, 0.0, 0.0, 0.0, 0.0, 0.8628779682659534, 0.7572419030350659, 0.725837871167278, 0.7002585222430756, 0.7209119470336771, 0.7084510143068166, 0.7259066630005611, 0.7414086817348928, 0.7337995656121873, 0.7472261486204341, 0.7483944409659341, 0.7582464025964384, 0.6840422695761791, 0.6892739985592968, 0.7013591442239963, 0.712548913048327]}],\n",
       "                        {\"template\": {\"data\": {\"bar\": [{\"error_x\": {\"color\": \"#2a3f5f\"}, \"error_y\": {\"color\": \"#2a3f5f\"}, \"marker\": {\"line\": {\"color\": \"#E5ECF6\", \"width\": 0.5}}, \"type\": \"bar\"}], \"barpolar\": [{\"marker\": {\"line\": {\"color\": \"#E5ECF6\", \"width\": 0.5}}, \"type\": \"barpolar\"}], \"carpet\": [{\"aaxis\": {\"endlinecolor\": \"#2a3f5f\", \"gridcolor\": \"white\", \"linecolor\": \"white\", \"minorgridcolor\": \"white\", \"startlinecolor\": \"#2a3f5f\"}, \"baxis\": {\"endlinecolor\": \"#2a3f5f\", \"gridcolor\": \"white\", \"linecolor\": \"white\", \"minorgridcolor\": \"white\", \"startlinecolor\": \"#2a3f5f\"}, \"type\": \"carpet\"}], \"choropleth\": [{\"colorbar\": {\"outlinewidth\": 0, \"ticks\": \"\"}, \"type\": \"choropleth\"}], \"contour\": [{\"colorbar\": {\"outlinewidth\": 0, \"ticks\": \"\"}, \"colorscale\": [[0.0, \"#0d0887\"], [0.1111111111111111, \"#46039f\"], [0.2222222222222222, \"#7201a8\"], [0.3333333333333333, \"#9c179e\"], [0.4444444444444444, \"#bd3786\"], [0.5555555555555556, \"#d8576b\"], [0.6666666666666666, \"#ed7953\"], [0.7777777777777778, \"#fb9f3a\"], [0.8888888888888888, \"#fdca26\"], [1.0, \"#f0f921\"]], \"type\": \"contour\"}], \"contourcarpet\": [{\"colorbar\": {\"outlinewidth\": 0, \"ticks\": \"\"}, \"type\": \"contourcarpet\"}], \"heatmap\": [{\"colorbar\": {\"outlinewidth\": 0, \"ticks\": \"\"}, \"colorscale\": [[0.0, \"#0d0887\"], [0.1111111111111111, \"#46039f\"], [0.2222222222222222, \"#7201a8\"], [0.3333333333333333, \"#9c179e\"], [0.4444444444444444, \"#bd3786\"], [0.5555555555555556, \"#d8576b\"], [0.6666666666666666, \"#ed7953\"], [0.7777777777777778, \"#fb9f3a\"], [0.8888888888888888, \"#fdca26\"], [1.0, \"#f0f921\"]], \"type\": \"heatmap\"}], \"heatmapgl\": [{\"colorbar\": {\"outlinewidth\": 0, \"ticks\": \"\"}, \"colorscale\": [[0.0, \"#0d0887\"], [0.1111111111111111, \"#46039f\"], [0.2222222222222222, \"#7201a8\"], [0.3333333333333333, \"#9c179e\"], [0.4444444444444444, \"#bd3786\"], [0.5555555555555556, \"#d8576b\"], [0.6666666666666666, \"#ed7953\"], [0.7777777777777778, \"#fb9f3a\"], [0.8888888888888888, \"#fdca26\"], [1.0, \"#f0f921\"]], \"type\": \"heatmapgl\"}], \"histogram\": [{\"marker\": {\"colorbar\": {\"outlinewidth\": 0, \"ticks\": \"\"}}, \"type\": \"histogram\"}], \"histogram2d\": [{\"colorbar\": {\"outlinewidth\": 0, \"ticks\": \"\"}, \"colorscale\": [[0.0, \"#0d0887\"], [0.1111111111111111, \"#46039f\"], [0.2222222222222222, \"#7201a8\"], [0.3333333333333333, \"#9c179e\"], [0.4444444444444444, \"#bd3786\"], [0.5555555555555556, \"#d8576b\"], [0.6666666666666666, \"#ed7953\"], [0.7777777777777778, \"#fb9f3a\"], [0.8888888888888888, \"#fdca26\"], [1.0, \"#f0f921\"]], \"type\": \"histogram2d\"}], \"histogram2dcontour\": [{\"colorbar\": {\"outlinewidth\": 0, \"ticks\": \"\"}, \"colorscale\": [[0.0, \"#0d0887\"], [0.1111111111111111, \"#46039f\"], [0.2222222222222222, \"#7201a8\"], [0.3333333333333333, \"#9c179e\"], [0.4444444444444444, \"#bd3786\"], [0.5555555555555556, \"#d8576b\"], [0.6666666666666666, \"#ed7953\"], [0.7777777777777778, \"#fb9f3a\"], [0.8888888888888888, \"#fdca26\"], [1.0, \"#f0f921\"]], \"type\": \"histogram2dcontour\"}], \"mesh3d\": [{\"colorbar\": {\"outlinewidth\": 0, \"ticks\": \"\"}, \"type\": \"mesh3d\"}], \"parcoords\": [{\"line\": {\"colorbar\": {\"outlinewidth\": 0, \"ticks\": \"\"}}, \"type\": \"parcoords\"}], \"pie\": [{\"automargin\": true, \"type\": \"pie\"}], \"scatter\": [{\"marker\": {\"colorbar\": {\"outlinewidth\": 0, \"ticks\": \"\"}}, \"type\": \"scatter\"}], \"scatter3d\": [{\"line\": {\"colorbar\": {\"outlinewidth\": 0, \"ticks\": \"\"}}, \"marker\": {\"colorbar\": {\"outlinewidth\": 0, \"ticks\": \"\"}}, \"type\": \"scatter3d\"}], \"scattercarpet\": [{\"marker\": {\"colorbar\": {\"outlinewidth\": 0, \"ticks\": \"\"}}, \"type\": \"scattercarpet\"}], \"scattergeo\": [{\"marker\": {\"colorbar\": {\"outlinewidth\": 0, \"ticks\": \"\"}}, \"type\": \"scattergeo\"}], \"scattergl\": [{\"marker\": {\"colorbar\": {\"outlinewidth\": 0, \"ticks\": \"\"}}, \"type\": \"scattergl\"}], \"scattermapbox\": [{\"marker\": {\"colorbar\": {\"outlinewidth\": 0, \"ticks\": \"\"}}, \"type\": \"scattermapbox\"}], \"scatterpolar\": [{\"marker\": {\"colorbar\": {\"outlinewidth\": 0, \"ticks\": \"\"}}, \"type\": \"scatterpolar\"}], \"scatterpolargl\": [{\"marker\": {\"colorbar\": {\"outlinewidth\": 0, \"ticks\": \"\"}}, \"type\": \"scatterpolargl\"}], \"scatterternary\": [{\"marker\": {\"colorbar\": {\"outlinewidth\": 0, \"ticks\": \"\"}}, \"type\": \"scatterternary\"}], \"surface\": [{\"colorbar\": {\"outlinewidth\": 0, \"ticks\": \"\"}, \"colorscale\": [[0.0, \"#0d0887\"], [0.1111111111111111, \"#46039f\"], [0.2222222222222222, \"#7201a8\"], [0.3333333333333333, \"#9c179e\"], [0.4444444444444444, \"#bd3786\"], [0.5555555555555556, \"#d8576b\"], [0.6666666666666666, \"#ed7953\"], [0.7777777777777778, \"#fb9f3a\"], [0.8888888888888888, \"#fdca26\"], [1.0, \"#f0f921\"]], \"type\": \"surface\"}], \"table\": [{\"cells\": {\"fill\": {\"color\": \"#EBF0F8\"}, \"line\": {\"color\": \"white\"}}, \"header\": {\"fill\": {\"color\": \"#C8D4E3\"}, \"line\": {\"color\": \"white\"}}, \"type\": \"table\"}]}, \"layout\": {\"annotationdefaults\": {\"arrowcolor\": \"#2a3f5f\", \"arrowhead\": 0, \"arrowwidth\": 1}, \"coloraxis\": {\"colorbar\": {\"outlinewidth\": 0, \"ticks\": \"\"}}, \"colorscale\": {\"diverging\": [[0, \"#8e0152\"], [0.1, \"#c51b7d\"], [0.2, \"#de77ae\"], [0.3, \"#f1b6da\"], [0.4, \"#fde0ef\"], [0.5, \"#f7f7f7\"], [0.6, \"#e6f5d0\"], [0.7, \"#b8e186\"], [0.8, \"#7fbc41\"], [0.9, \"#4d9221\"], [1, \"#276419\"]], \"sequential\": [[0.0, \"#0d0887\"], [0.1111111111111111, \"#46039f\"], [0.2222222222222222, \"#7201a8\"], [0.3333333333333333, \"#9c179e\"], [0.4444444444444444, \"#bd3786\"], [0.5555555555555556, \"#d8576b\"], [0.6666666666666666, \"#ed7953\"], [0.7777777777777778, \"#fb9f3a\"], [0.8888888888888888, \"#fdca26\"], [1.0, \"#f0f921\"]], \"sequentialminus\": [[0.0, \"#0d0887\"], [0.1111111111111111, \"#46039f\"], [0.2222222222222222, \"#7201a8\"], [0.3333333333333333, \"#9c179e\"], [0.4444444444444444, \"#bd3786\"], [0.5555555555555556, \"#d8576b\"], [0.6666666666666666, \"#ed7953\"], [0.7777777777777778, \"#fb9f3a\"], [0.8888888888888888, \"#fdca26\"], [1.0, \"#f0f921\"]]}, \"colorway\": [\"#636efa\", \"#EF553B\", \"#00cc96\", \"#ab63fa\", \"#FFA15A\", \"#19d3f3\", \"#FF6692\", \"#B6E880\", \"#FF97FF\", \"#FECB52\"], \"font\": {\"color\": \"#2a3f5f\"}, \"geo\": {\"bgcolor\": \"white\", \"lakecolor\": \"white\", \"landcolor\": \"#E5ECF6\", \"showlakes\": true, \"showland\": true, \"subunitcolor\": \"white\"}, \"hoverlabel\": {\"align\": \"left\"}, \"hovermode\": \"closest\", \"mapbox\": {\"style\": \"light\"}, \"paper_bgcolor\": \"white\", \"plot_bgcolor\": \"#E5ECF6\", \"polar\": {\"angularaxis\": {\"gridcolor\": \"white\", \"linecolor\": \"white\", \"ticks\": \"\"}, \"bgcolor\": \"#E5ECF6\", \"radialaxis\": {\"gridcolor\": \"white\", \"linecolor\": \"white\", \"ticks\": \"\"}}, \"scene\": {\"xaxis\": {\"backgroundcolor\": \"#E5ECF6\", \"gridcolor\": \"white\", \"gridwidth\": 2, \"linecolor\": \"white\", \"showbackground\": true, \"ticks\": \"\", \"zerolinecolor\": \"white\"}, \"yaxis\": {\"backgroundcolor\": \"#E5ECF6\", \"gridcolor\": \"white\", \"gridwidth\": 2, \"linecolor\": \"white\", \"showbackground\": true, \"ticks\": \"\", \"zerolinecolor\": \"white\"}, \"zaxis\": {\"backgroundcolor\": \"#E5ECF6\", \"gridcolor\": \"white\", \"gridwidth\": 2, \"linecolor\": \"white\", \"showbackground\": true, \"ticks\": \"\", \"zerolinecolor\": \"white\"}}, \"shapedefaults\": {\"line\": {\"color\": \"#2a3f5f\"}}, \"ternary\": {\"aaxis\": {\"gridcolor\": \"white\", \"linecolor\": \"white\", \"ticks\": \"\"}, \"baxis\": {\"gridcolor\": \"white\", \"linecolor\": \"white\", \"ticks\": \"\"}, \"bgcolor\": \"#E5ECF6\", \"caxis\": {\"gridcolor\": \"white\", \"linecolor\": \"white\", \"ticks\": \"\"}}, \"title\": {\"x\": 0.05}, \"xaxis\": {\"automargin\": true, \"gridcolor\": \"white\", \"linecolor\": \"white\", \"ticks\": \"\", \"title\": {\"standoff\": 15}, \"zerolinecolor\": \"white\", \"zerolinewidth\": 2}, \"yaxis\": {\"automargin\": true, \"gridcolor\": \"white\", \"linecolor\": \"white\", \"ticks\": \"\", \"title\": {\"standoff\": 15}, \"zerolinecolor\": \"white\", \"zerolinewidth\": 2}}}},\n",
       "                        {\"responsive\": true}\n",
       "                    ).then(function(){\n",
       "                            \n",
       "var gd = document.getElementById('eb50be45-7c61-4b99-988a-dfb441775c09');\n",
       "var x = new MutationObserver(function (mutations, observer) {{\n",
       "        var display = window.getComputedStyle(gd).display;\n",
       "        if (!display || display === 'none') {{\n",
       "            console.log([gd, 'removed!']);\n",
       "            Plotly.purge(gd);\n",
       "            observer.disconnect();\n",
       "        }}\n",
       "}});\n",
       "\n",
       "// Listen for the removal of the full notebook cells\n",
       "var notebookContainer = gd.closest('#notebook-container');\n",
       "if (notebookContainer) {{\n",
       "    x.observe(notebookContainer, {childList: true});\n",
       "}}\n",
       "\n",
       "// Listen for the clearing of the current output cell\n",
       "var outputEl = gd.closest('.output');\n",
       "if (outputEl) {{\n",
       "    x.observe(outputEl, {childList: true});\n",
       "}}\n",
       "\n",
       "                        })\n",
       "                };\n",
       "                });\n",
       "            </script>\n",
       "        </div>"
      ]
     },
     "metadata": {},
     "output_type": "display_data"
    }
   ],
   "source": [
    "fig = go.Figure()\n",
    "\n",
    "fig.add_trace(go.Scatter(\n",
    "    x=g_df['due_date'],\n",
    "    y=g_df['user_pct'],\n",
    "    name='grades',\n",
    "    line_color='red',\n",
    "    line_width=5\n",
    "))\n",
    "\n",
    "fig.add_trace(go.Scatter(\n",
    "    x=g_df['due_date'],\n",
    "    y=g_df['upper'],\n",
    "    line_color='gray',\n",
    "    showlegend=False\n",
    "))\n",
    "\n",
    "fig.add_trace(go.Scatter(\n",
    "    x=g_df['due_date'],\n",
    "    y=g_df['lower'],\n",
    "    fill='tonexty',\n",
    "    line_color='gray',\n",
    "    showlegend=False\n",
    "))\n",
    "    \n",
    "fig.show()"
   ]
  },
  {
   "cell_type": "code",
   "execution_count": null,
   "metadata": {},
   "outputs": [],
   "source": []
  }
 ],
 "metadata": {
  "kernelspec": {
   "display_name": "Python 3",
   "language": "python",
   "name": "python3"
  },
  "language_info": {
   "codemirror_mode": {
    "name": "ipython",
    "version": 3
   },
   "file_extension": ".py",
   "mimetype": "text/x-python",
   "name": "python",
   "nbconvert_exporter": "python",
   "pygments_lexer": "ipython3",
   "version": "3.7.2"
  }
 },
 "nbformat": 4,
 "nbformat_minor": 4
}
